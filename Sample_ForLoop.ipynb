{
  "nbformat": 4,
  "nbformat_minor": 0,
  "metadata": {
    "colab": {
      "name": "Untitled0.ipynb",
      "version": "0.3.2",
      "provenance": [],
      "include_colab_link": true
    },
    "kernelspec": {
      "name": "python2",
      "display_name": "Python 2"
    }
  },
  "cells": [
    {
      "cell_type": "markdown",
      "metadata": {
        "id": "view-in-github",
        "colab_type": "text"
      },
      "source": [
        "<a href=\"https://colab.research.google.com/github/sourav180309/Hadoop/blob/master/Sample_ForLoop.ipynb\" target=\"_parent\"><img src=\"https://colab.research.google.com/assets/colab-badge.svg\" alt=\"Open In Colab\"/></a>"
      ]
    },
    {
      "metadata": {
        "id": "ESlJNYukp03H",
        "colab_type": "code",
        "outputId": "393c3a10-fcf1-4726-ebc9-5070cd33fda0",
        "colab": {
          "base_uri": "https://localhost:8080/",
          "height": 134
        }
      },
      "cell_type": "code",
      "source": [
        "v_list = [1,2,3,4,5]\n",
        "v_list.append(6)\n",
        "print(v_list)\n",
        "for i in v_list:\n",
        "  if i==3:\n",
        "    print(i)\n",
        "  elif i==5:\n",
        "        print(i)\n",
        "  else:\n",
        "        print(\"hello\")"
      ],
      "execution_count": 20,
      "outputs": [
        {
          "output_type": "stream",
          "text": [
            "[1, 2, 3, 4, 5, 6]\n",
            "hello\n",
            "hello\n",
            "3\n",
            "hello\n",
            "5\n",
            "hello\n"
          ],
          "name": "stdout"
        }
      ]
    }
  ]
}